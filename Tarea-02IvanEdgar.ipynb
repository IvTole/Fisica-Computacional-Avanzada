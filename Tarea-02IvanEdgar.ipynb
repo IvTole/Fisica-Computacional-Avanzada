{
 "metadata": {
  "name": ""
 },
 "nbformat": 3,
 "nbformat_minor": 0,
 "worksheets": [
  {
   "cells": [
    {
     "cell_type": "heading",
     "level": 1,
     "metadata": {},
     "source": [
      "Tarea 2: Usando librer\u00edas de python"
     ]
    },
    {
     "cell_type": "markdown",
     "metadata": {},
     "source": [
      "**REGLAS:** (casi id\u00e9nticas a la semana anterior)\n",
      "\n",
      "- Usa Python para llevar a cabo las tareas\n",
      "\n",
      "- S\u00ed se permite el trabajo colaborativo, y de hecho se fomenta, pero se exige el uso de las neuronas de todos los que colaboren. Se vale entregar una sola tarea por grupo de 2 o (si es necesario) 3 personas.\n",
      "\n",
      "- La tarea se entrega como un *notebook* de IPython, y debe incluir notas, comentario y **TODO** lo est\u00e9ticamente necesario, que lo haga entendible para una tercer persona no involucrada en el curso. \n",
      "\n",
      "- Se recomienda usar una versi\u00f3n nueva de este mismo notebook, reemplazando \"[Respuestas aqu\u00ed]\" por tu discusi\u00f3n, c\u00f3digo, y resultados (en los tipos de celda que convengan, y con el n\u00famero de ellos que haga falta).\n",
      "\n",
      "- Cambia el nombre del notebook para reflejar el nombre que escojan para su grupo de trabajo, e.g. \"Tarea-01-profes\"\n",
      "\n",
      "- S\u00fabela a tu cuenta de github y haznos saber la direcci\u00f3n."
     ]
    },
    {
     "cell_type": "markdown",
     "metadata": {},
     "source": [
      "**1.** \n",
      "\n",
      "a. Eval\u00faa la funci\u00f3n racional\n",
      "$$\n",
      "R(x,y)= \\textstyle \\frac{33375}{100} y^6 + x^2 (11 x^2 y^2 - y^6 - 121 y^4 - 2) + \\frac{55}{10}y^8 + \\frac{x}{2 y}\n",
      "$$\n",
      "en los valores (enteros) $x=77617$ y $y=33096$. \n",
      "\n",
      "b. Verifica tu respuesta usando precisi\u00f3n extendida (librer\u00eda `mpmath` de `sympy`), digamos, con 30, 60, y 80 d\u00edgitos.\n",
      "\n",
      "c. Dado que se trata de una funci\u00f3n racional, uno esperar\u00eda que $R(77617,33096)$ sea un valor racional. \u00bfQu\u00e9 valor num\u00e9rico obtienes si utilizas la librer\u00eda `Rational` de `sympy`?\n"
     ]
    },
    {
     "cell_type": "heading",
     "level": 2,
     "metadata": {},
     "source": [
      "Respuesta"
     ]
    },
    {
     "cell_type": "code",
     "collapsed": false,
     "input": [
      "from sympy import init_printing, symbols, Rational, Integral\n",
      "init_printing()\n",
      "\n",
      "from sympy import *\n",
      "from sympy.mpmath import mp,fp,mpf\n"
     ],
     "language": "python",
     "metadata": {},
     "outputs": [],
     "prompt_number": 1
    },
    {
     "cell_type": "code",
     "collapsed": false,
     "input": [
      "# imports necesarios\n",
      "%matplotlib inline\n",
      "\n",
      "import numpy as  np\n",
      "from matplotlib import pyplot as plt\n",
      "from scipy.integrate import quad, dblquad, tplquad\n"
     ],
     "language": "python",
     "metadata": {},
     "outputs": [],
     "prompt_number": 2
    },
    {
     "cell_type": "heading",
     "level": 4,
     "metadata": {},
     "source": [
      "1) Eval\u00faa la funci\u00f3n racional\n",
      "$$\n",
      "R(x,y)= \\textstyle \\frac{33375}{100} y^6 + x^2 (11 x^2 y^2 - y^6 - 121 y^4 - 2) + \\frac{55}{10}y^8 + \\frac{x}{2 y}\n",
      "$$\n",
      "en los valores (enteros) $x=77617$ y $y=33096$. "
     ]
    },
    {
     "cell_type": "markdown",
     "metadata": {},
     "source": [
      "Definimos dos funciones a evaluar. La primera R1(x,y), usa valores de tipo float para sus constantes. La segunda usa valores de tipo Integer. Dado que R(x,y) es una funci\u00f3n racional, nos quedamos con R1(x,y)"
     ]
    },
    {
     "cell_type": "code",
     "collapsed": false,
     "input": [
      "def R1(x,y):\n",
      "\n",
      "    return ((33375./100.)*(y**6)) + (x**2)*(11.*(x**2)*(y**2) - y**6 - (121.)*(y**4) - 2) + (55./10.)*(y**8) + (x/(2.*y))\n",
      "    "
     ],
     "language": "python",
     "metadata": {},
     "outputs": [],
     "prompt_number": 3
    },
    {
     "cell_type": "code",
     "collapsed": false,
     "input": [
      "def R2(x,y):\n",
      "    \n",
      "    return ((33375/100)*(y**6)) + (x**2)*(11*(x**2)*(y**2) - y**6 - (121)*(y**4) - 2) + (55/10)*(y**8) + (x/(2*y))"
     ],
     "language": "python",
     "metadata": {},
     "outputs": [],
     "prompt_number": 4
    },
    {
     "cell_type": "code",
     "collapsed": false,
     "input": [
      "print 'R1 =',R1(77617,33096)\n",
      "print 'R2 =',R2(77617,33096)\n"
     ],
     "language": "python",
     "metadata": {},
     "outputs": [
      {
       "output_type": "stream",
       "stream": "stdout",
       "text": [
        "R1 = -1.18059162072e+21\n",
        "R2 = -719737395591900115423969299982909441\n"
       ]
      }
     ],
     "prompt_number": 5
    },
    {
     "cell_type": "heading",
     "level": 4,
     "metadata": {},
     "source": [
      "b) Verifica tu respuesta usando precisi\u00f3n extendida (librer\u00eda `mpmath` de `sympy`), digamos, con 30, 60, y 80 d\u00edgitos.\n"
     ]
    },
    {
     "cell_type": "markdown",
     "metadata": {},
     "source": [
      "Usando mp de la librer\u00eda mpmath. Ajustando la precisi\u00f3n con mp, todas las operaciones con mpf ser\u00e1n llevadas a cabo con dicha precisi\u00f3n. Fue necesario usar la precisi\u00f3n en el valor y=33096, al parecer porque se est\u00e1 dividiendo por ese valor."
     ]
    },
    {
     "cell_type": "code",
     "collapsed": false,
     "input": [
      "mp.dps = 30 # Definimos la precision deseada\n",
      "print mpf(R1(77617.,mpf(33096.)))"
     ],
     "language": "python",
     "metadata": {},
     "outputs": [
      {
       "output_type": "stream",
       "stream": "stdout",
       "text": [
        "1.17260394005317863185883490452\n"
       ]
      }
     ],
     "prompt_number": 6
    },
    {
     "cell_type": "code",
     "collapsed": false,
     "input": [
      "mp.dps = 60 \n",
      "print mpf(R1(77617.,mpf(33096.)))"
     ],
     "language": "python",
     "metadata": {},
     "outputs": [
      {
       "output_type": "stream",
       "stream": "stdout",
       "text": [
        "-0.827396059946821368141165095479816291999033115784384819917815\n"
       ]
      }
     ],
     "prompt_number": 7
    },
    {
     "cell_type": "code",
     "collapsed": false,
     "input": [
      "mp.dps = 80 # Definimos la precision deseada\n",
      "print mpf(R1(77617.,mpf(33096.)))"
     ],
     "language": "python",
     "metadata": {},
     "outputs": [
      {
       "output_type": "stream",
       "stream": "stdout",
       "text": [
        "-0.82739605994682136814116509547981629199903311578438481991781484167270969301426154\n"
       ]
      }
     ],
     "prompt_number": 8
    },
    {
     "cell_type": "markdown",
     "metadata": {},
     "source": [
      "Como vemos, usando una precisi\u00f3n de 30 d\u00edgitos el resultado difiere incluso en el signo, comparado con el inciso a. S\u00f3lo en las siguientes precisiones de 60 y 80 es donde se ve que hay una respuesta constante."
     ]
    },
    {
     "cell_type": "heading",
     "level": 4,
     "metadata": {},
     "source": [
      "c) Dado que se trata de una funci\u00f3n racional, uno esperar\u00eda que $R(77617,33096)$ sea un valor racional. \u00bfQu\u00e9 valor num\u00e9rico obtienes si utilizas la librer\u00eda `Rational` de `sympy`?\n"
     ]
    },
    {
     "cell_type": "markdown",
     "metadata": {},
     "source": [
      "Definimos una nueva funci\u00f3n R(x,y), pero en este caso con valores racionales."
     ]
    },
    {
     "cell_type": "code",
     "collapsed": false,
     "input": [
      "def Rt(x,y):\n",
      "\n",
      "    return Rational(33375,100)*(y**6) + (x**2)*(Rational('11')*(x**2)*(y**2)-(y**6)-Rational('121')*(y**4)-Rational('2')) + Rational(55,10)*(y**8) + Rational(x,(2*y))"
     ],
     "language": "python",
     "metadata": {},
     "outputs": [],
     "prompt_number": 9
    },
    {
     "cell_type": "code",
     "collapsed": false,
     "input": [
      "Rt(77617,33096)"
     ],
     "language": "python",
     "metadata": {},
     "outputs": [
      {
       "metadata": {},
       "output_type": "pyout",
       "prompt_number": 10,
       "text": [
        "  54767\n",
        "- \u2500\u2500\u2500\u2500\u2500\n",
        "  66192"
       ]
      }
     ],
     "prompt_number": 10
    },
    {
     "cell_type": "markdown",
     "metadata": {},
     "source": [
      "**2.** \n",
      "\n",
      "Eval\u00faa num\u00e9ricamente (usando herramientas de Python) la integral\n",
      "$$\n",
      "I_1 = \\int_0^1 \\frac{1}{\\sqrt{\\pi}} \\exp \\left( -x^2 \\right) \\, dx\n",
      "$$"
     ]
    },
    {
     "cell_type": "heading",
     "level": 2,
     "metadata": {},
     "source": [
      "Respuesta"
     ]
    },
    {
     "cell_type": "markdown",
     "metadata": {},
     "source": [
      "Usando el comando Integral de sympy, construimos la funci\u00f3n a integrar. Primero definimos la variable x como un s\u00edmbolo."
     ]
    },
    {
     "cell_type": "code",
     "collapsed": false,
     "input": [
      "x, y = symbols(\"x y\")\n",
      "x"
     ],
     "language": "python",
     "metadata": {},
     "outputs": [
      {
       "metadata": {},
       "output_type": "pyout",
       "prompt_number": 11,
       "text": [
        "x"
       ]
      }
     ],
     "prompt_number": 11
    },
    {
     "cell_type": "code",
     "collapsed": false,
     "input": [
      "integrando = (1/sqrt(pi))*exp(-x**2)"
     ],
     "language": "python",
     "metadata": {},
     "outputs": [],
     "prompt_number": 12
    },
    {
     "cell_type": "code",
     "collapsed": false,
     "input": [
      "I = Integral(integrando, (x, 0, 1))\n",
      "I"
     ],
     "language": "python",
     "metadata": {},
     "outputs": [
      {
       "metadata": {},
       "output_type": "pyout",
       "prompt_number": 13,
       "text": [
        "1         \n",
        "\u2320         \n",
        "\u23ae     2   \n",
        "\u23ae   -x    \n",
        "\u23ae  \u212f      \n",
        "\u23ae \u2500\u2500\u2500\u2500\u2500 dx\n",
        "\u23ae   ___   \n",
        "\u23ae \u2572\u2571 \u03c0    \n",
        "\u2321         \n",
        "0         "
       ]
      }
     ],
     "prompt_number": 13
    },
    {
     "cell_type": "code",
     "collapsed": false,
     "input": [
      "Res = (I.doit()).evalf(n=30)"
     ],
     "language": "python",
     "metadata": {},
     "outputs": [],
     "prompt_number": 14
    },
    {
     "cell_type": "code",
     "collapsed": false,
     "input": [
      "Res"
     ],
     "language": "python",
     "metadata": {},
     "outputs": [
      {
       "metadata": {},
       "output_type": "pyout",
       "prompt_number": 15,
       "text": [
        "0.421350396474857434670610317541"
       ]
      }
     ],
     "prompt_number": 15
    },
    {
     "cell_type": "markdown",
     "metadata": {},
     "source": [
      "Como la integral se evalu\u00f3 simb\u00f3licamente, se tuvo como resultado una funci\u00f3n $erf(1)/2$, la cual se evalu\u00f3 usando evalf con una precisi\u00f3n de 30 d\u00edgitos."
     ]
    },
    {
     "cell_type": "markdown",
     "metadata": {},
     "source": [
      "**3.** \n",
      "\n",
      "a. Dibuja la funci\u00f3n \n",
      "$$\n",
      "f(x) = x^{-1} \\cos \\left( x^{-1} \\log{x} \\right)\n",
      "$$\n",
      "en el intervalo [0,1].\n",
      "\n",
      "b. Calcula ahora el *valor num\u00e9rico* de\n",
      "$$\n",
      "\\lim_{\\epsilon\\to 0} \\int_\\epsilon^1 f(x) \\, dx\n",
      "$$\n",
      "\n",
      "c. \u00bfC\u00f3mo podr\u00edas verificar si el valor num\u00e9rico que obtuviste es correcto en 10 decimales?"
     ]
    },
    {
     "cell_type": "heading",
     "level": 2,
     "metadata": {},
     "source": [
      "Respuesta"
     ]
    },
    {
     "cell_type": "heading",
     "level": 4,
     "metadata": {},
     "source": [
      "a. Dibuja la funci\u00f3n \n",
      "$$\n",
      "f(x) = x^{-1} \\cos \\left( x^{-1} \\log{x} \\right)\n",
      "$$\n",
      "en el intervalo [0,1]."
     ]
    },
    {
     "cell_type": "code",
     "collapsed": false,
     "input": [
      "def Funcion(x):   # Como se divide entre x, no se toma en cuenta el valor x = 0\n",
      "\n",
      "    return (x**(-1))*np.cos((x**(-1))*np.log(x))"
     ],
     "language": "python",
     "metadata": {},
     "outputs": [],
     "prompt_number": 16
    },
    {
     "cell_type": "code",
     "collapsed": false,
     "input": [
      "x2 = np.linspace(0.001, 1, 1000)\n",
      "#x2"
     ],
     "language": "python",
     "metadata": {},
     "outputs": [],
     "prompt_number": 17
    },
    {
     "cell_type": "code",
     "collapsed": false,
     "input": [
      "y2 = [Funcion(valor) for valor in x2]\n",
      "#y2"
     ],
     "language": "python",
     "metadata": {},
     "outputs": [],
     "prompt_number": 18
    },
    {
     "cell_type": "code",
     "collapsed": false,
     "input": [
      "plt.plot(x2, y2)\n",
      "plt.xlabel(\"$x$\", fontsize=15)\n",
      "plt.ylabel(\"$f(x) = x^{-1} \\cos ( x^{-1} \\log{x} ) $\", fontsize=15)\n",
      "plt.ylim(-20,20)\n",
      "#plt.title(\"Un dibujo muy interesante de $y=x^2$ \", fontsize=30)"
     ],
     "language": "python",
     "metadata": {},
     "outputs": [
      {
       "metadata": {},
       "output_type": "pyout",
       "prompt_number": 19,
       "text": [
        "(-20, 20)"
       ]
      },
      {
       "metadata": {},
       "output_type": "display_data",
       "png": "[encoded data removed]",
       "text": [
        "Figure(480x320)"
       ]
      }
     ],
     "prompt_number": 19
    },
    {
     "cell_type": "heading",
     "level": 4,
     "metadata": {},
     "source": [
      "b. Calcula ahora el *valor num\u00e9rico* de\n",
      "$$\n",
      "\\lim_{\\epsilon\\to 0} \\int_\\epsilon^1 f(x) \\, dx\n",
      "$$"
     ]
    },
    {
     "cell_type": "markdown",
     "metadata": {},
     "source": [
      "Usamos la librer\u00eda scipy, que incluye varias formas de hacer integraci\u00f3n num\u00e9rica. Entre ellas est\u00e1 Quad, para integrar una funci\u00f3n de este tipo. Primero lo usamos para el limite inferior = 0. Luego se contin\u00faa usando valores cercanos a $0$ para el l\u00edmite inferior."
     ]
    },
    {
     "cell_type": "code",
     "collapsed": false,
     "input": [
      "# definimos una funcion para el integrando\n",
      "def f(x):\n",
      "    return (x**(-1))*cos((x**(-1))*log(x)) "
     ],
     "language": "python",
     "metadata": {},
     "outputs": [],
     "prompt_number": 20
    },
    {
     "cell_type": "code",
     "collapsed": false,
     "input": [
      "x_lower = 0. # limite inferior de x\n",
      "x_upper = 1. # limite superior de x\n",
      "\n",
      "val, abserr = quad(f, x_lower, x_upper)\n",
      "\n",
      "print \"valor de la integral =\", val, \", error absoluto =\", abserr "
     ],
     "language": "python",
     "metadata": {},
     "outputs": [
      {
       "output_type": "stream",
       "stream": "stdout",
       "text": [
        "valor de la integral = 1.27167413835 , error absoluto = 1.92761668794\n"
       ]
      },
      {
       "output_type": "stream",
       "stream": "stderr",
       "text": [
        "/Users/ivantoledano/anaconda/lib/python2.7/site-packages/scipy/integrate/quadpack.py:289: UserWarning: The integral is probably divergent, or slowly convergent.\n",
        "  warnings.warn(msg)\n"
       ]
      }
     ],
     "prompt_number": 21
    },
    {
     "cell_type": "code",
     "collapsed": false,
     "input": [
      "x_lower = 0.0014 # limite inferior de x\n",
      "x_upper = 1. # limite superior de x\n",
      "\n",
      "val, abserr = quad(f, x_lower, x_upper)\n",
      "\n",
      "print \"valor de la integral =\", val, \", error absoluto =\", abserr "
     ],
     "language": "python",
     "metadata": {},
     "outputs": [
      {
       "output_type": "stream",
       "stream": "stdout",
       "text": [
        "valor de la integral = -0.26608236693 , error absoluto = 0.0933249949799\n"
       ]
      }
     ],
     "prompt_number": 22
    },
    {
     "cell_type": "code",
     "collapsed": false,
     "input": [
      "x_lower = 0.001 # limite inferior de x\n",
      "x_upper = 1. # limite superior de x\n",
      "\n",
      "val, abserr = quad(f, x_lower, x_upper)\n",
      "\n",
      "print \"valor de la integral =\", val, \", error absoluto =\", abserr "
     ],
     "language": "python",
     "metadata": {},
     "outputs": [
      {
       "output_type": "stream",
       "stream": "stdout",
       "text": [
        "valor de la integral = 0.3245720462 , error absoluto = 0.0252857215506\n"
       ]
      }
     ],
     "prompt_number": 23
    },
    {
     "cell_type": "code",
     "collapsed": false,
     "input": [
      "x_lower = 0.05 # limite inferior de x\n",
      "x_upper = 1. # limite superior de x\n",
      "\n",
      "val, abserr = quad(f, x_lower, x_upper)\n",
      "\n",
      "print \"valor de la integral =\", val, \", error absoluto =\", abserr "
     ],
     "language": "python",
     "metadata": {},
     "outputs": [
      {
       "output_type": "stream",
       "stream": "stdout",
       "text": [
        "valor de la integral = 0.320775082451 , error absoluto = 1.00417612532e-08\n"
       ]
      }
     ],
     "prompt_number": 24
    },
    {
     "cell_type": "markdown",
     "metadata": {},
     "source": [
      "Como se puede ver, para diferentes valores cercanos al $0$, se tienen diferentes valores de la integral (y del error). Como se puede observar en el inciso anterior, la funci\u00f3n oscila con una amplitud cada vez m\u00e1s alta al acercarse $x \\rightarrow 0$"
     ]
    },
    {
     "cell_type": "heading",
     "level": 4,
     "metadata": {},
     "source": [
      "c. \u00bfC\u00f3mo podr\u00edas verificar si el valor num\u00e9rico que obtuviste es correcto en 10 decimales?"
     ]
    },
    {
     "cell_type": "markdown",
     "metadata": {},
     "source": [
      "Bas\u00e1ndose en los resultados de scipy, se podr\u00eda usar el valor del error hasta cierto d\u00edgito."
     ]
    },
    {
     "cell_type": "markdown",
     "metadata": {},
     "source": [
      "**4.**\n",
      "\n",
      "Completa las operaciones aritm\u00e9ticas (resta, multiplicaci\u00f3n y divisi\u00f3n) para la clase `Intervalo` que definimos en clase."
     ]
    },
    {
     "cell_type": "heading",
     "level": 2,
     "metadata": {},
     "source": [
      "Respuesta"
     ]
    },
    {
     "cell_type": "code",
     "collapsed": false,
     "input": [
      "class Intervalo(object):\n",
      "    def __init__(self, min, max=None):\n",
      "        \n",
      "        if max is None:    #degenerado\n",
      "            max = min\n",
      "        \n",
      "        if min > max:    # Por si estan volteados los limites\n",
      "                max, min = min, max\n",
      "            \n",
      "            \n",
      "        self.min = min\n",
      "        self.max = max\n",
      "        \n",
      "      \n",
      "            \n",
      "        \n",
      "        \n",
      "    def __repr__(self):\n",
      "        #return \"Intervalo(%s, %s)\" % (self.min, self.max)\n",
      "        return \"Intervalo({}, {})\".format(self.min, self.max)\n",
      "    \n",
      "    def __str__(self):\n",
      "        return \"[{}, {}]\".format(self.min, self.max)\n",
      "        \n",
      "    # Para el IPython notebook:\n",
      "    def _repr_html_(self):\n",
      "        return \"[{}, {}]\".format(self.min, self.max)\n",
      "    \n",
      "#     def _repr_latex_(self):\n",
      "#         return \"$[{}^{}]$\".format(self.min, self.max)\n",
      "\n",
      "#SUMA\n",
      "    def __add__(self, otro):\n",
      "        return Intervalo(self.min + otro.min, self.max + otro.max)\n",
      "\n",
      "#RESTA    \n",
      "    def __sub__(self, otro):\n",
      "        return Intervalo(self.min - otro.min, self.max - otro.max)\n",
      "    \n",
      "#MULTIPLICACION    \n",
      "    def __mul__(self, otro):\n",
      "        \n",
      "        if 0<=self.min and 0<=otro.min:\n",
      "            return Intervalo(self.min*otro.min,self.max*otro.max)\n",
      "        \n",
      "        if self.max<=0 and 0<=otro.min:\n",
      "            return Intervalo(self.max*otro.min,self.min*otro.max)\n",
      "        \n",
      "        if self.min<0 and self.max>0 and 0<=otro.min:\n",
      "            return Intervalo(self.min*otro.max,self.max*otro.max)\n",
      "        \n",
      "        if 0<=self.min and otro.max<=0:\n",
      "            return Intervalo(self.min*otro.max,self.max*otro.min)\n",
      "        \n",
      "        if self.max<=0 and otro.max<=0:\n",
      "            return Intervalo(self.max*otro.max,self.min*otro.min)\n",
      "        \n",
      "        if self.min<0 and 0<self.max and otro.max<0:\n",
      "            return Intervalo(self.max*otro.min,self.min*otro.max)\n",
      "        \n",
      "        if 0<=self.min and otro.min<0 and 0<otro.max:\n",
      "            return Intervalo(otro.min*self.max,otro.max*self.min)\n",
      "        \n",
      "        if self.max<0 and otro.min<0 and 0<otro.max:\n",
      "            return Intervalo(otro.max*self.min,otro.min*self.min)\n",
      "        \n",
      "        if self.min<0 and self.max>0 and 0<otro.max and otro.min<0:\n",
      "            if self.min*otro.max<self.max*otro.min:\n",
      "                minimo = self.min*otro.max\n",
      "            else:\n",
      "                minimo = self.max*otro.min\n",
      "            if self.min*otro.min<self.max*otro.max:\n",
      "                maximo = self.max*otro.max\n",
      "            else:\n",
      "                maximo = self.min*otro.min\n",
      "            return Intervalo(minimo,maximo)\n",
      "    \n",
      "    \n",
      "#DIVISION\n",
      "\n",
      "    def __div__(self,otro):    \n",
      "\n",
      "    \n",
      "        if otro.max!=0:\n",
      "            Nmin = 1./otro.max\n",
      "            \n",
      "        if otro.min!=0:\n",
      "            Nmax = 1./otro.min\n",
      "\n",
      "\n",
      "        infty = float(oo)   #casos con infinito\n",
      "        \n",
      "        \n",
      "        \n",
      "        \n",
      "        #return Intervalo(Nmin, Nmax)\n",
      "        \n",
      "        if 0<otro.min or 0>otro.max:  # Que no haya cero\n",
      "            Inter=Intervalo(Nmin,Nmax)\n",
      "            return self*Inter\n",
      "            \n",
      "            \n",
      "        if 0>=self.min and 0<=self.max and 0>=otro.min and 0<=otro.max:\n",
      "            return Intervalo(-infty,infty)\n",
      "        \n",
      "        if 0>self.max and otro.max==0 and otro.min<otro.max:\n",
      "            return Intervalo(self.max*Nmax,infty)\n",
      "        \n",
      "        if 0>self.max and 0<otro.max and 0>otro.min:\n",
      "            return Intervalo(self.max*Nmin,self.max*Nmin)\n",
      "        \n",
      "        if 0>self.max and otro.min==0 and otro.max>otro.min:\n",
      "            return Intervalo(-infty,self.max*Nmin)\n",
      "        \n",
      "        if 0<self.min and otro.max==0 and otro.max>otro.min:\n",
      "            return Intervalo(-infty,self.min*Nmax)\n",
      "        \n",
      "        if 0<self.min and 0<otro.max and 0>otro.min:\n",
      "            return Intervalo(self.min*Nmin,self.min*Nmax)\n",
      "        \n",
      "        if 0<self.min and otro.min==0 and otro.max>otro.min:\n",
      "            return Intervalo(self.min*Nmin,infty)\n",
      "        \n",
      "        if (0<self.min or 0>self.max) and otro.max==0 and otro.min==0:\n",
      "            print 'null'\n",
      "        \n",
      "#        return Intervalo(self.min*self.min + self.max*self.max)"
     ],
     "language": "python",
     "metadata": {},
     "outputs": [],
     "prompt_number": 25
    },
    {
     "cell_type": "code",
     "collapsed": false,
     "input": [
      "i=Intervalo(2,3)\n",
      "j=Intervalo(-2,-1)"
     ],
     "language": "python",
     "metadata": {},
     "outputs": [],
     "prompt_number": 26
    },
    {
     "cell_type": "code",
     "collapsed": false,
     "input": [
      "i+j"
     ],
     "language": "python",
     "metadata": {},
     "outputs": [
      {
       "html": [
        "[0, 2]"
       ],
       "metadata": {},
       "output_type": "pyout",
       "prompt_number": 27,
       "text": [
        "[0, 2]"
       ]
      }
     ],
     "prompt_number": 27
    },
    {
     "cell_type": "code",
     "collapsed": false,
     "input": [
      "i - j"
     ],
     "language": "python",
     "metadata": {},
     "outputs": [
      {
       "html": [
        "[4, 4]"
       ],
       "metadata": {},
       "output_type": "pyout",
       "prompt_number": 28,
       "text": [
        "[4, 4]"
       ]
      }
     ],
     "prompt_number": 28
    },
    {
     "cell_type": "code",
     "collapsed": false,
     "input": [
      "i*j"
     ],
     "language": "python",
     "metadata": {},
     "outputs": [
      {
       "html": [
        "[-6, -2]"
       ],
       "metadata": {},
       "output_type": "pyout",
       "prompt_number": 29,
       "text": [
        "[-6, -2]"
       ]
      }
     ],
     "prompt_number": 29
    },
    {
     "cell_type": "code",
     "collapsed": false,
     "input": [
      "i/j"
     ],
     "language": "python",
     "metadata": {},
     "outputs": [
      {
       "html": [
        "[-3.0, -1.0]"
       ],
       "metadata": {},
       "output_type": "pyout",
       "prompt_number": 30,
       "text": [
        "[-3.0, -1.0]"
       ]
      }
     ],
     "prompt_number": 30
    },
    {
     "cell_type": "code",
     "collapsed": false,
     "input": [],
     "language": "python",
     "metadata": {},
     "outputs": [],
     "prompt_number": 160
    },
    {
     "cell_type": "code",
     "collapsed": false,
     "input": [],
     "language": "python",
     "metadata": {},
     "outputs": []
    }
   ],
   "metadata": {}
  }
 ]
}